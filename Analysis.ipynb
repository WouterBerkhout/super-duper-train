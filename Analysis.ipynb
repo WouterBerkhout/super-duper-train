{
 "cells": [
  {
   "cell_type": "markdown",
   "metadata": {},
   "source": [
    "# Title\n",
    "\n",
    "Import data from mongo to dataframe\n",
    "\n",
    "Read US shapefile\n",
    "\n",
    "Read demographic datasets \n",
    "\n",
    "Merge above together\n",
    "\n",
    "Do analysis\n"
   ]
  },
  {
   "cell_type": "code",
   "execution_count": 1,
   "metadata": {
    "collapsed": true
   },
   "outputs": [],
   "source": [
    "# Import all the libraries required\n",
    "import os\n",
    "import json\n",
    "import numpy as np\n",
    "import pandas as pd\n",
    "import matplotlib.pyplot as plt\n",
    "import geopandas as gpd\n",
    "from pymongo import MongoClient\n",
    "import config"
   ]
  },
  {
   "cell_type": "code",
   "execution_count": 20,
   "metadata": {
    "scrolled": true
   },
   "outputs": [
    {
     "data": {
      "text/html": [
       "<div>\n",
       "<style>\n",
       "    .dataframe thead tr:only-child th {\n",
       "        text-align: right;\n",
       "    }\n",
       "\n",
       "    .dataframe thead th {\n",
       "        text-align: left;\n",
       "    }\n",
       "\n",
       "    .dataframe tbody tr th {\n",
       "        vertical-align: top;\n",
       "    }\n",
       "</style>\n",
       "<table border=\"1\" class=\"dataframe\">\n",
       "  <thead>\n",
       "    <tr style=\"text-align: right;\">\n",
       "      <th></th>\n",
       "      <th>text</th>\n",
       "    </tr>\n",
       "  </thead>\n",
       "  <tbody>\n",
       "    <tr>\n",
       "      <th>0</th>\n",
       "      <td>ALL IN COLLUSION TOGETHER   #NOJUSTICE   ...</td>\n",
       "    </tr>\n",
       "  </tbody>\n",
       "</table>\n",
       "</div>"
      ],
      "text/plain": [
       "                                                text\n",
       "0       ALL IN COLLUSION TOGETHER   #NOJUSTICE   ..."
      ]
     },
     "execution_count": 20,
     "metadata": {},
     "output_type": "execute_result"
    }
   ],
   "source": [
    "# TODO read datasets here, maybe filter a bit\n",
    "\n",
    "# TODO read connection to pymongo\n",
    "client = MongoClient(config.mongoConnectionString)\n",
    "database = client[config.mongoDatabase]\n",
    "processed_collection = database['processed']\n",
    "\n",
    "tweets = processed_collection.find({})\n",
    "df_tweets = pd.DataFrame(list(tweets))\n",
    "\n",
    "# Reading geojson file\n",
    "#geoFile = 'Datasets\\states.geojson'\n",
    "#world = gpd.read_file(geoFile)"
   ]
  },
  {
   "cell_type": "code",
   "execution_count": 7,
   "metadata": {},
   "outputs": [
    {
     "data": {
      "image/png": "[encoded data removed]",
      "text/plain": [
       "<matplotlib.figure.Figure at 0x12d0c320>"
      ]
     },
     "metadata": {},
     "output_type": "display_data"
    }
   ],
   "source": [
    "# Reading geojson file\n",
    "geoFile = 'Datasets\\states.geojson'\n",
    "world = gpd.read_file(geoFile)\n",
    "\n",
    "# changing the projection of reference system \n",
    "# TODO change to latlon!\n",
    "world.crs = {'init' :'epsg:4269', 'no_defs': True}\n",
    "world = world.to_crs({'init': 'epsg:3395'})\n",
    "\n",
    "# join population data with geo data\n",
    "world = world.merge(population_avg_age, how='inner', on='STATE_NAME')\n",
    "\n",
    "# transforming and scaling hawaii and alaska\n",
    "world.loc[world.STATE_NAME == 'Alaska', 'geometry'] = world[world.STATE_NAME == 'Alaska']['geometry']\\\n",
    "    .scale(xfact=0.4, yfact=0.4)\\\n",
    "    .translate(xoff = 0.15e7, yoff = -0.35e7)\n",
    "world.loc[world.STATE_NAME == 'Hawaii', 'geometry'] = world[world.STATE_NAME == 'Hawaii']['geometry']\\\n",
    "    .scale(xfact=2, yfact=2)\\\n",
    "    .translate(xoff = 0.2e7, yoff = 0.10e7)\n",
    "\n",
    "# Color the states\n",
    "world.plot(column='avg_age2016', legend=True)\n",
    "plt.axis('off')\n",
    "#plt.legend(loc=2, prop={'size': 1}, labelspacing=0.1)\n",
    "plt.show()\n"
   ]
  }
 ],
 "metadata": {
  "kernelspec": {
   "display_name": "Python 3",
   "language": "python",
   "name": "python3"
  },
  "language_info": {
   "codemirror_mode": {
    "name": "ipython",
    "version": 3
   },
   "file_extension": ".py",
   "mimetype": "text/x-python",
   "name": "python",
   "nbconvert_exporter": "python",
   "pygments_lexer": "ipython3",
   "version": "3.6.1"
  }
 },
 "nbformat": 4,
 "nbformat_minor": 1
}
